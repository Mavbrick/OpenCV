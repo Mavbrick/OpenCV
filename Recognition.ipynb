{
 "cells": [
  {
   "cell_type": "code",
   "execution_count": 2,
   "id": "05968e4c-773d-429c-b48b-09a1a5c7c3d3",
   "metadata": {},
   "outputs": [
    {
     "name": "stdout",
     "output_type": "stream",
     "text": [
      "Requirement already satisfied: pillow in c:\\users\\maverick\\appdata\\local\\programs\\python\\python310\\lib\\site-packages (9.2.0)\n"
     ]
    }
   ],
   "source": [
    "!pip install opencv-python"
   ]
  },
  {
   "cell_type": "code",
   "execution_count": 10,
   "id": "6a960e50-52cf-4726-a5c6-2843e290bc7e",
   "metadata": {},
   "outputs": [
    {
     "name": "stdout",
     "output_type": "stream",
     "text": [
      "Requirement already satisfied: pytesseract in c:\\users\\mavbr\\appdata\\local\\programs\\python\\python310\\lib\\site-packages (0.3.10)\n",
      "Requirement already satisfied: packaging>=21.3 in c:\\users\\mavbr\\appdata\\local\\programs\\python\\python310\\lib\\site-packages (from pytesseract) (21.3)\n",
      "Requirement already satisfied: Pillow>=8.0.0 in c:\\users\\mavbr\\appdata\\local\\programs\\python\\python310\\lib\\site-packages (from pytesseract) (9.4.0)\n",
      "Requirement already satisfied: pyparsing!=3.0.5,>=2.0.2 in c:\\users\\mavbr\\appdata\\local\\programs\\python\\python310\\lib\\site-packages (from packaging>=21.3->pytesseract) (3.0.9)\n",
      "Collecting jupyter\n",
      "  Downloading jupyter-1.0.0-py2.py3-none-any.whl (2.7 kB)\n",
      "Collecting qtconsole\n",
      "  Downloading qtconsole-5.4.0-py3-none-any.whl (121 kB)\n",
      "     -------------------------------------- 121.0/121.0 kB 6.9 MB/s eta 0:00:00\n",
      "Requirement already satisfied: nbconvert in c:\\users\\mavbr\\appdata\\local\\programs\\python\\python310\\lib\\site-packages (from jupyter) (7.2.2)\n",
      "Collecting ipywidgets\n",
      "  Downloading ipywidgets-8.0.4-py3-none-any.whl (137 kB)\n",
      "     -------------------------------------- 137.8/137.8 kB 8.0 MB/s eta 0:00:00\n",
      "Requirement already satisfied: notebook in c:\\users\\mavbr\\appdata\\local\\programs\\python\\python310\\lib\\site-packages (from jupyter) (6.5.1)\n",
      "Requirement already satisfied: ipykernel in c:\\users\\mavbr\\appdata\\local\\programs\\python\\python310\\lib\\site-packages (from jupyter) (6.16.0)\n",
      "Collecting jupyter-console\n",
      "  Downloading jupyter_console-6.4.4-py3-none-any.whl (22 kB)\n",
      "Requirement already satisfied: jupyter-client>=6.1.12 in c:\\users\\mavbr\\appdata\\local\\programs\\python\\python310\\lib\\site-packages (from ipykernel->jupyter) (7.4.2)\n",
      "Requirement already satisfied: tornado>=6.1 in c:\\users\\mavbr\\appdata\\local\\programs\\python\\python310\\lib\\site-packages (from ipykernel->jupyter) (6.2)\n",
      "Requirement already satisfied: packaging in c:\\users\\mavbr\\appdata\\local\\programs\\python\\python310\\lib\\site-packages (from ipykernel->jupyter) (21.3)\n",
      "Requirement already satisfied: pyzmq>=17 in c:\\users\\mavbr\\appdata\\local\\programs\\python\\python310\\lib\\site-packages (from ipykernel->jupyter) (24.0.1)\n",
      "Requirement already satisfied: debugpy>=1.0 in c:\\users\\mavbr\\appdata\\local\\programs\\python\\python310\\lib\\site-packages (from ipykernel->jupyter) (1.6.3)\n",
      "Requirement already satisfied: nest-asyncio in c:\\users\\mavbr\\appdata\\local\\programs\\python\\python310\\lib\\site-packages (from ipykernel->jupyter) (1.5.6)\n",
      "Requirement already satisfied: traitlets>=5.1.0 in c:\\users\\mavbr\\appdata\\local\\programs\\python\\python310\\lib\\site-packages (from ipykernel->jupyter) (5.5.0)\n",
      "Requirement already satisfied: matplotlib-inline>=0.1 in c:\\users\\mavbr\\appdata\\local\\programs\\python\\python310\\lib\\site-packages (from ipykernel->jupyter) (0.1.6)\n",
      "Requirement already satisfied: psutil in c:\\users\\mavbr\\appdata\\local\\programs\\python\\python310\\lib\\site-packages (from ipykernel->jupyter) (5.9.3)\n",
      "Requirement already satisfied: ipython>=7.23.1 in c:\\users\\mavbr\\appdata\\local\\programs\\python\\python310\\lib\\site-packages (from ipykernel->jupyter) (8.5.0)\n",
      "Collecting jupyterlab-widgets~=3.0\n",
      "  Downloading jupyterlab_widgets-3.0.5-py3-none-any.whl (384 kB)\n",
      "     ------------------------------------- 384.3/384.3 kB 12.1 MB/s eta 0:00:00\n",
      "Collecting widgetsnbextension~=4.0\n",
      "  Downloading widgetsnbextension-4.0.5-py3-none-any.whl (2.0 MB)\n",
      "     ---------------------------------------- 2.0/2.0 MB 10.0 MB/s eta 0:00:00\n",
      "Requirement already satisfied: pygments in c:\\users\\mavbr\\appdata\\local\\programs\\python\\python310\\lib\\site-packages (from jupyter-console->jupyter) (2.13.0)\n",
      "Requirement already satisfied: prompt-toolkit!=3.0.0,!=3.0.1,<3.1.0,>=2.0.0 in c:\\users\\mavbr\\appdata\\local\\programs\\python\\python310\\lib\\site-packages (from jupyter-console->jupyter) (3.0.31)\n",
      "Requirement already satisfied: jupyterlab-pygments in c:\\users\\mavbr\\appdata\\local\\programs\\python\\python310\\lib\\site-packages (from nbconvert->jupyter) (0.2.2)\n",
      "Requirement already satisfied: nbclient>=0.5.0 in c:\\users\\mavbr\\appdata\\local\\programs\\python\\python310\\lib\\site-packages (from nbconvert->jupyter) (0.7.0)\n",
      "Requirement already satisfied: tinycss2 in c:\\users\\mavbr\\appdata\\local\\programs\\python\\python310\\lib\\site-packages (from nbconvert->jupyter) (1.2.1)\n",
      "Requirement already satisfied: defusedxml in c:\\users\\mavbr\\appdata\\local\\programs\\python\\python310\\lib\\site-packages (from nbconvert->jupyter) (0.7.1)\n",
      "Requirement already satisfied: markupsafe>=2.0 in c:\\users\\mavbr\\appdata\\local\\programs\\python\\python310\\lib\\site-packages (from nbconvert->jupyter) (2.1.1)\n",
      "Requirement already satisfied: mistune<3,>=2.0.3 in c:\\users\\mavbr\\appdata\\local\\programs\\python\\python310\\lib\\site-packages (from nbconvert->jupyter) (2.0.4)\n",
      "Requirement already satisfied: nbformat>=5.1 in c:\\users\\mavbr\\appdata\\local\\programs\\python\\python310\\lib\\site-packages (from nbconvert->jupyter) (5.7.0)\n",
      "Requirement already satisfied: jupyter-core>=4.7 in c:\\users\\mavbr\\appdata\\local\\programs\\python\\python310\\lib\\site-packages (from nbconvert->jupyter) (4.11.2)\n",
      "Requirement already satisfied: pandocfilters>=1.4.1 in c:\\users\\mavbr\\appdata\\local\\programs\\python\\python310\\lib\\site-packages (from nbconvert->jupyter) (1.5.0)\n",
      "Requirement already satisfied: jinja2>=3.0 in c:\\users\\mavbr\\appdata\\local\\programs\\python\\python310\\lib\\site-packages (from nbconvert->jupyter) (3.1.2)\n",
      "Requirement already satisfied: beautifulsoup4 in c:\\users\\mavbr\\appdata\\local\\programs\\python\\python310\\lib\\site-packages (from nbconvert->jupyter) (4.11.1)\n",
      "Requirement already satisfied: bleach in c:\\users\\mavbr\\appdata\\local\\programs\\python\\python310\\lib\\site-packages (from nbconvert->jupyter) (5.0.1)\n",
      "Requirement already satisfied: prometheus-client in c:\\users\\mavbr\\appdata\\local\\programs\\python\\python310\\lib\\site-packages (from notebook->jupyter) (0.15.0)\n",
      "Requirement already satisfied: Send2Trash>=1.8.0 in c:\\users\\mavbr\\appdata\\local\\programs\\python\\python310\\lib\\site-packages (from notebook->jupyter) (1.8.0)\n",
      "Requirement already satisfied: nbclassic==0.4.5 in c:\\users\\mavbr\\appdata\\local\\programs\\python\\python310\\lib\\site-packages (from notebook->jupyter) (0.4.5)\n",
      "Requirement already satisfied: ipython-genutils in c:\\users\\mavbr\\appdata\\local\\programs\\python\\python310\\lib\\site-packages (from notebook->jupyter) (0.2.0)\n",
      "Requirement already satisfied: terminado>=0.8.3 in c:\\users\\mavbr\\appdata\\local\\programs\\python\\python310\\lib\\site-packages (from notebook->jupyter) (0.16.0)\n",
      "Requirement already satisfied: argon2-cffi in c:\\users\\mavbr\\appdata\\local\\programs\\python\\python310\\lib\\site-packages (from notebook->jupyter) (21.3.0)\n",
      "Requirement already satisfied: jupyter-server>=1.8 in c:\\users\\mavbr\\appdata\\local\\programs\\python\\python310\\lib\\site-packages (from nbclassic==0.4.5->notebook->jupyter) (1.21.0)\n",
      "Requirement already satisfied: notebook-shim>=0.1.0 in c:\\users\\mavbr\\appdata\\local\\programs\\python\\python310\\lib\\site-packages (from nbclassic==0.4.5->notebook->jupyter) (0.2.0)\n",
      "Collecting qtpy>=2.0.1\n",
      "  Downloading QtPy-2.3.0-py3-none-any.whl (83 kB)\n",
      "     ---------------------------------------- 83.6/83.6 kB 4.9 MB/s eta 0:00:00\n",
      "Requirement already satisfied: backcall in c:\\users\\mavbr\\appdata\\local\\programs\\python\\python310\\lib\\site-packages (from ipython>=7.23.1->ipykernel->jupyter) (0.2.0)\n",
      "Requirement already satisfied: stack-data in c:\\users\\mavbr\\appdata\\local\\programs\\python\\python310\\lib\\site-packages (from ipython>=7.23.1->ipykernel->jupyter) (0.5.1)\n",
      "Requirement already satisfied: decorator in c:\\users\\mavbr\\appdata\\local\\programs\\python\\python310\\lib\\site-packages (from ipython>=7.23.1->ipykernel->jupyter) (5.1.1)\n",
      "Requirement already satisfied: colorama in c:\\users\\mavbr\\appdata\\local\\programs\\python\\python310\\lib\\site-packages (from ipython>=7.23.1->ipykernel->jupyter) (0.4.5)\n",
      "Requirement already satisfied: pickleshare in c:\\users\\mavbr\\appdata\\local\\programs\\python\\python310\\lib\\site-packages (from ipython>=7.23.1->ipykernel->jupyter) (0.7.5)\n",
      "Requirement already satisfied: jedi>=0.16 in c:\\users\\mavbr\\appdata\\local\\programs\\python\\python310\\lib\\site-packages (from ipython>=7.23.1->ipykernel->jupyter) (0.18.1)\n",
      "Requirement already satisfied: python-dateutil>=2.8.2 in c:\\users\\mavbr\\appdata\\local\\programs\\python\\python310\\lib\\site-packages (from jupyter-client>=6.1.12->ipykernel->jupyter) (2.8.2)\n",
      "Requirement already satisfied: entrypoints in c:\\users\\mavbr\\appdata\\local\\programs\\python\\python310\\lib\\site-packages (from jupyter-client>=6.1.12->ipykernel->jupyter) (0.4)\n",
      "Requirement already satisfied: pywin32>=1.0 in c:\\users\\mavbr\\appdata\\local\\programs\\python\\python310\\lib\\site-packages (from jupyter-core>=4.7->nbconvert->jupyter) (304)\n",
      "Requirement already satisfied: fastjsonschema in c:\\users\\mavbr\\appdata\\local\\programs\\python\\python310\\lib\\site-packages (from nbformat>=5.1->nbconvert->jupyter) (2.16.2)\n",
      "Requirement already satisfied: jsonschema>=2.6 in c:\\users\\mavbr\\appdata\\local\\programs\\python\\python310\\lib\\site-packages (from nbformat>=5.1->nbconvert->jupyter) (4.16.0)\n",
      "Requirement already satisfied: wcwidth in c:\\users\\mavbr\\appdata\\local\\programs\\python\\python310\\lib\\site-packages (from prompt-toolkit!=3.0.0,!=3.0.1,<3.1.0,>=2.0.0->jupyter-console->jupyter) (0.2.5)\n",
      "Requirement already satisfied: pywinpty>=1.1.0 in c:\\users\\mavbr\\appdata\\local\\programs\\python\\python310\\lib\\site-packages (from terminado>=0.8.3->notebook->jupyter) (2.0.8)\n",
      "Requirement already satisfied: argon2-cffi-bindings in c:\\users\\mavbr\\appdata\\local\\programs\\python\\python310\\lib\\site-packages (from argon2-cffi->notebook->jupyter) (21.2.0)\n",
      "Requirement already satisfied: soupsieve>1.2 in c:\\users\\mavbr\\appdata\\local\\programs\\python\\python310\\lib\\site-packages (from beautifulsoup4->nbconvert->jupyter) (2.3.2.post1)\n",
      "Requirement already satisfied: six>=1.9.0 in c:\\users\\mavbr\\appdata\\local\\programs\\python\\python310\\lib\\site-packages (from bleach->nbconvert->jupyter) (1.16.0)\n",
      "Requirement already satisfied: webencodings in c:\\users\\mavbr\\appdata\\local\\programs\\python\\python310\\lib\\site-packages (from bleach->nbconvert->jupyter) (0.5.1)\n",
      "Requirement already satisfied: pyparsing!=3.0.5,>=2.0.2 in c:\\users\\mavbr\\appdata\\local\\programs\\python\\python310\\lib\\site-packages (from packaging->ipykernel->jupyter) (3.0.9)\n",
      "Requirement already satisfied: parso<0.9.0,>=0.8.0 in c:\\users\\mavbr\\appdata\\local\\programs\\python\\python310\\lib\\site-packages (from jedi>=0.16->ipython>=7.23.1->ipykernel->jupyter) (0.8.3)\n",
      "Requirement already satisfied: pyrsistent!=0.17.0,!=0.17.1,!=0.17.2,>=0.14.0 in c:\\users\\mavbr\\appdata\\local\\programs\\python\\python310\\lib\\site-packages (from jsonschema>=2.6->nbformat>=5.1->nbconvert->jupyter) (0.18.1)\n",
      "Requirement already satisfied: attrs>=17.4.0 in c:\\users\\mavbr\\appdata\\local\\programs\\python\\python310\\lib\\site-packages (from jsonschema>=2.6->nbformat>=5.1->nbconvert->jupyter) (22.1.0)\n",
      "Requirement already satisfied: websocket-client in c:\\users\\mavbr\\appdata\\local\\programs\\python\\python310\\lib\\site-packages (from jupyter-server>=1.8->nbclassic==0.4.5->notebook->jupyter) (1.4.1)\n",
      "Requirement already satisfied: anyio<4,>=3.1.0 in c:\\users\\mavbr\\appdata\\local\\programs\\python\\python310\\lib\\site-packages (from jupyter-server>=1.8->nbclassic==0.4.5->notebook->jupyter) (3.6.2)\n",
      "Requirement already satisfied: cffi>=1.0.1 in c:\\users\\mavbr\\appdata\\local\\programs\\python\\python310\\lib\\site-packages (from argon2-cffi-bindings->argon2-cffi->notebook->jupyter) (1.15.1)\n",
      "Requirement already satisfied: executing in c:\\users\\mavbr\\appdata\\local\\programs\\python\\python310\\lib\\site-packages (from stack-data->ipython>=7.23.1->ipykernel->jupyter) (1.1.1)\n",
      "Requirement already satisfied: pure-eval in c:\\users\\mavbr\\appdata\\local\\programs\\python\\python310\\lib\\site-packages (from stack-data->ipython>=7.23.1->ipykernel->jupyter) (0.2.2)\n",
      "Requirement already satisfied: asttokens in c:\\users\\mavbr\\appdata\\local\\programs\\python\\python310\\lib\\site-packages (from stack-data->ipython>=7.23.1->ipykernel->jupyter) (2.0.8)\n",
      "Requirement already satisfied: idna>=2.8 in c:\\users\\mavbr\\appdata\\local\\programs\\python\\python310\\lib\\site-packages (from anyio<4,>=3.1.0->jupyter-server>=1.8->nbclassic==0.4.5->notebook->jupyter) (3.4)\n",
      "Requirement already satisfied: sniffio>=1.1 in c:\\users\\mavbr\\appdata\\local\\programs\\python\\python310\\lib\\site-packages (from anyio<4,>=3.1.0->jupyter-server>=1.8->nbclassic==0.4.5->notebook->jupyter) (1.3.0)\n",
      "Requirement already satisfied: pycparser in c:\\users\\mavbr\\appdata\\local\\programs\\python\\python310\\lib\\site-packages (from cffi>=1.0.1->argon2-cffi-bindings->argon2-cffi->notebook->jupyter) (2.21)\n",
      "Installing collected packages: widgetsnbextension, jupyterlab-widgets, qtpy, qtconsole, jupyter-console, ipywidgets, jupyter\n",
      "Successfully installed ipywidgets-8.0.4 jupyter-1.0.0 jupyter-console-6.4.4 jupyterlab-widgets-3.0.5 qtconsole-5.4.0 qtpy-2.3.0 widgetsnbextension-4.0.5\n"
     ]
    }
   ],
   "source": [
    "!pip install pytesseract\n",
    "!pip install -U jupyter"
   ]
  },
  {
   "cell_type": "code",
   "execution_count": 9,
   "id": "cc5917dc-fdcd-4bb9-89ad-55f4a7cd939f",
   "metadata": {},
   "outputs": [],
   "source": [
    "# Import required packages\n",
    "import cv2\n",
    "import pytesseract\n",
    " \n",
    "# Mention the installed location of Tesseract-OCR in your system\n",
    "pytesseract.pytesseract.tesseract_cmd = 'C:\\Program Files\\Tesseract-OCR\\\\tesseract.exe'\n",
    " \n",
    "# Read image from which text needs to be extracted\n",
    "img = cv2.imread(\"output1gfg.png\")\n",
    " \n",
    "# Preprocessing the image starts\n",
    " \n",
    "# Convert the image to gray scale\n",
    "gray = cv2.cvtColor(img, cv2.COLOR_BGR2GRAY)\n",
    " \n",
    "# Performing OTSU threshold\n",
    "ret, thresh1 = cv2.threshold(gray, 0, 255, cv2.THRESH_OTSU | cv2.THRESH_BINARY_INV)\n",
    " \n",
    "# Specify structure shape and kernel size.\n",
    "# Kernel size increases or decreases the area\n",
    "# of the rectangle to be detected.\n",
    "# A smaller value like (10, 10) will detect\n",
    "# each word instead of a sentence.\n",
    "rect_kernel = cv2.getStructuringElement(cv2.MORPH_RECT, (18, 18))\n",
    " \n",
    "# Applying dilation on the threshold image\n",
    "dilation = cv2.dilate(thresh1, rect_kernel, iterations = 1)\n",
    " \n",
    "# Finding contours\n",
    "contours, hierarchy = cv2.findContours(dilation, cv2.RETR_EXTERNAL,\n",
    "                                                 cv2.CHAIN_APPROX_NONE)\n",
    " \n",
    "# Creating a copy of image\n",
    "im2 = img.copy()\n",
    " \n",
    "# A text file is created and flushed\n",
    "file = open(\"recognized.txt\", \"w+\")\n",
    "file.write(\"\")\n",
    "file.close()\n",
    " \n",
    "# Looping through the identified contours\n",
    "# Then rectangular part is cropped and passed on\n",
    "# to pytesseract for extracting text from it\n",
    "# Extracted text is then written into the text file\n",
    "for cnt in contours:\n",
    "    x, y, w, h = cv2.boundingRect(cnt)\n",
    "     \n",
    "    # Drawing a rectangle on copied image\n",
    "    rect = cv2.rectangle(im2, (x, y), (x + w, y + h), (0, 255, 0), 2)\n",
    "     \n",
    "    # Cropping the text block for giving input to OCR\n",
    "    cropped = im2[y:y + h, x:x + w]\n",
    "     \n",
    "    # Open the file in append mode\n",
    "    file = open(\"recognized.txt\", \"a\")\n",
    "     \n",
    "    # Apply OCR on the cropped image\n",
    "    text = pytesseract.image_to_string(cropped)\n",
    "     \n",
    "    # Appending the text into file\n",
    "    file.write(text)\n",
    "    file.write(\"\\n\")\n",
    "     \n",
    "    # Close the file\n",
    "    file.close"
   ]
  },
  {
   "cell_type": "code",
   "execution_count": 1,
   "id": "2027e8e2-cae6-4b47-83d5-88ca5797563d",
   "metadata": {},
   "outputs": [
    {
     "name": "stdout",
     "output_type": "stream",
     "text": [
      "Requirement already satisfied: svg-to-gcode in c:\\users\\maverick\\appdata\\local\\programs\\python\\python310\\lib\\site-packages (1.5.4)\n"
     ]
    }
   ],
   "source": [
    "!pip install svg-to-gcode"
   ]
  },
  {
   "cell_type": "code",
   "execution_count": 11,
   "id": "ee53cd79-7f31-4a08-8982-121474e81163",
   "metadata": {},
   "outputs": [
    {
     "name": "stdout",
     "output_type": "stream",
     "text": [
      "Requirement already satisfied: svgutils in c:\\users\\mavbr\\appdata\\local\\programs\\python\\python310\\lib\\site-packages (0.3.4)\n",
      "Requirement already satisfied: lxml in c:\\users\\mavbr\\appdata\\local\\programs\\python\\python310\\lib\\site-packages (from svgutils) (4.9.2)\n"
     ]
    }
   ],
   "source": [
    "!pip install svgutils"
   ]
  },
  {
   "cell_type": "code",
   "execution_count": null,
   "id": "95411c4c-097c-4497-98bb-7f94bbf118d7",
   "metadata": {},
   "outputs": [],
   "source": []
  }
 ],
 "metadata": {
  "kernelspec": {
   "display_name": "Python 3 (ipykernel)",
   "language": "python",
   "name": "python3"
  },
  "language_info": {
   "codemirror_mode": {
    "name": "ipython",
    "version": 3
   },
   "file_extension": ".py",
   "mimetype": "text/x-python",
   "name": "python",
   "nbconvert_exporter": "python",
   "pygments_lexer": "ipython3",
   "version": "3.10.8"
  }
 },
 "nbformat": 4,
 "nbformat_minor": 5
}
