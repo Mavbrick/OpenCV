{
 "cells": [
  {
   "cell_type": "code",
   "execution_count": 7,
   "id": "8fdad420-9275-4701-9cd6-5c8fcd540896",
   "metadata": {
    "tags": []
   },
   "outputs": [],
   "source": [
    "#1 Installing OpenCV"
   ]
  },
  {
   "cell_type": "code",
   "execution_count": 5,
   "id": "fffdb6bb-d6ab-4405-b93f-460b23b8ef5d",
   "metadata": {},
   "outputs": [
    {
     "name": "stdout",
     "output_type": "stream",
     "text": [
      "Requirement already satisfied: opencv-python in c:\\users\\maverick\\appdata\\local\\programs\\python\\python310\\lib\\site-packages (4.6.0.66)\n",
      "Requirement already satisfied: numpy>=1.14.5 in c:\\users\\maverick\\appdata\\local\\programs\\python\\python310\\lib\\site-packages (from opencv-python) (1.23.4)\n"
     ]
    }
   ],
   "source": [
    "!pip install opencv-python"
   ]
  },
  {
   "cell_type": "code",
   "execution_count": 3,
   "id": "9bb5d5c0-55fd-4955-afad-656d9530c786",
   "metadata": {},
   "outputs": [],
   "source": [
    "import cv2"
   ]
  },
  {
   "cell_type": "code",
   "execution_count": 9,
   "id": "1ea92ad5-89d4-496c-9626-fd2ea171fdb3",
   "metadata": {},
   "outputs": [],
   "source": [
    "#Test Samples"
   ]
  },
  {
   "cell_type": "code",
   "execution_count": 6,
   "id": "0f9ab287-623c-40b0-9baa-5a839d4182a6",
   "metadata": {
    "tags": []
   },
   "outputs": [
    {
     "name": "stdout",
     "output_type": "stream",
     "text": [
      "\n",
      "example to show optical flow\n",
      "\n",
      "USAGE: opt_flow.py [<video_source>]\n",
      "\n",
      "Keys:\n",
      " 1 - toggle HSV flow visualization\n",
      " 2 - toggle glitch\n",
      "\n",
      "Keys:\n",
      "    ESC    - exit\n",
      "\n",
      "Done\n"
     ]
    }
   ],
   "source": [
    "#Optical sample\n",
    "!cd C:\\Users\\Maverick\\OpenCV\\opencv-4.6.0\\samples\\python & python opt_flow.py"
   ]
  },
  {
   "cell_type": "code",
   "execution_count": null,
   "id": "7d503828-3bb0-425a-83b0-2dfe4f26fd04",
   "metadata": {
    "tags": []
   },
   "outputs": [],
   "source": []
  }
 ],
 "metadata": {
  "kernelspec": {
   "display_name": "Python 3 (ipykernel)",
   "language": "python",
   "name": "python3"
  },
  "language_info": {
   "codemirror_mode": {
    "name": "ipython",
    "version": 3
   },
   "file_extension": ".py",
   "mimetype": "text/x-python",
   "name": "python",
   "nbconvert_exporter": "python",
   "pygments_lexer": "ipython3",
   "version": "3.10.8"
  }
 },
 "nbformat": 4,
 "nbformat_minor": 5
}
